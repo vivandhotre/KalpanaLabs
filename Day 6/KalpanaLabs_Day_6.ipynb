{
  "nbformat": 4,
  "nbformat_minor": 0,
  "metadata": {
    "colab": {
      "name": "KalpanaLabs_Day_6.ipynb",
      "provenance": [],
      "authorship_tag": "ABX9TyOjtem7Tml0asZueXgbJI3j",
      "include_colab_link": true
    },
    "kernelspec": {
      "name": "python3",
      "display_name": "Python 3"
    }
  },
  "cells": [
    {
      "cell_type": "markdown",
      "metadata": {
        "id": "view-in-github",
        "colab_type": "text"
      },
      "source": [
        "<a href=\"https://colab.research.google.com/github/ekdnam/KalpanaLabs/blob/master/Day%206/KalpanaLabs_Day_6.ipynb\" target=\"_parent\"><img src=\"https://colab.research.google.com/assets/colab-badge.svg\" alt=\"Open In Colab\"/></a>"
      ]
    },
    {
      "cell_type": "markdown",
      "metadata": {
        "id": "EwQg6bTJ3GH0",
        "colab_type": "text"
      },
      "source": [
        "# Comparison statements\n",
        "\n",
        "---\n",
        "\n",
        "How to compare between two values? \n",
        "\n",
        "How to implement comparison operations in Python?"
      ]
    },
    {
      "cell_type": "markdown",
      "metadata": {
        "id": "RUegAM1u4Cnz",
        "colab_type": "text"
      },
      "source": [
        "## Boolean values\n",
        "\n",
        "---\n",
        "\n",
        "The variables of the Boolean datatype allow only two data types.\n",
        "\n",
        "__True OR False__\n",
        "\n",
        "They are really helpful for implementing control statements, which will learn in the next few weeks."
      ]
    },
    {
      "cell_type": "code",
      "metadata": {
        "id": "XhhyIINgz5Jx",
        "colab_type": "code",
        "colab": {
          "base_uri": "https://localhost:8080/",
          "height": 52
        },
        "outputId": "2b653f3c-4f3b-4abd-99ea-e4f658f9e481"
      },
      "source": [
        "a = True\n",
        "\n",
        "b = False\n",
        "\n",
        "print(type(a))\n",
        "print(type(b))"
      ],
      "execution_count": 2,
      "outputs": [
        {
          "output_type": "stream",
          "text": [
            "<class 'bool'>\n",
            "<class 'bool'>\n"
          ],
          "name": "stdout"
        }
      ]
    },
    {
      "cell_type": "markdown",
      "metadata": {
        "id": "751OITONSfpu",
        "colab_type": "text"
      },
      "source": [
        "## What are comparison statements?\n",
        "\n",
        "\n",
        "---\n",
        "\n",
        "As the name suggests, they are used for comparing two values.\n",
        "\n",
        "They use different comparison operators, like:\n",
        "\n",
        "* <\n",
        "* \\>\n",
        "* \\>=\n",
        "* <=\n",
        "* ==\n",
        "* !="
      ]
    },
    {
      "cell_type": "markdown",
      "metadata": {
        "id": "viOHWnPyTPMe",
        "colab_type": "text"
      },
      "source": [
        "## What do they mean?\n",
        "\n",
        "\n",
        "\n",
        "---\n",
        "\n",
        ">Operator | Meaning\n",
        ">--- | ---\n",
        "> \\< | Lesser than\n",
        ">\\> | Greater than\n",
        "> \\<= | Lesser than or equal to\n",
        ">\\>= | Greater than or equal to\n",
        "> \\== | Equal to\n",
        ">\\!= | Not equal to\n",
        "\n",
        "We can check this using boolean values."
      ]
    },
    {
      "cell_type": "code",
      "metadata": {
        "id": "vvVLwJuESaoc",
        "colab_type": "code",
        "colab": {}
      },
      "source": [
        "var_1 = 1\n",
        "var_2 = 2"
      ],
      "execution_count": 5,
      "outputs": []
    },
    {
      "cell_type": "code",
      "metadata": {
        "id": "-7REgUEwXVpq",
        "colab_type": "code",
        "colab": {
          "base_uri": "https://localhost:8080/",
          "height": 121
        },
        "outputId": "39a0f286-a032-45e1-baec-f3c465145da2"
      },
      "source": [
        "value_1 = var_1 < var_2\n",
        "\n",
        "value_2 = var_1 > var_2\n",
        "\n",
        "value_3 = var_1 <= var_2\n",
        "\n",
        "value_4 = var_1 >= var_2\n",
        "\n",
        "value_5 = var_1 == var_2\n",
        "\n",
        "value_6 = var_1 != var_2\n",
        "\n",
        "print(value_1)\n",
        "print(value_2)\n",
        "print(value_3)\n",
        "print(value_4)\n",
        "print(value_5)\n",
        "print(value_6)"
      ],
      "execution_count": 6,
      "outputs": [
        {
          "output_type": "stream",
          "text": [
            "True\n",
            "False\n",
            "True\n",
            "False\n",
            "False\n",
            "True\n"
          ],
          "name": "stdout"
        }
      ]
    },
    {
      "cell_type": "code",
      "metadata": {
        "id": "xRJUdRtbYrsL",
        "colab_type": "code",
        "colab": {}
      },
      "source": [
        "str_1 = \"ABC\"\n",
        "str_2 = \"BCD\""
      ],
      "execution_count": 8,
      "outputs": []
    },
    {
      "cell_type": "code",
      "metadata": {
        "id": "nFDQgFsSYN2R",
        "colab_type": "code",
        "colab": {
          "base_uri": "https://localhost:8080/",
          "height": 121
        },
        "outputId": "9613da72-289b-442c-dcf1-cd0329a61313"
      },
      "source": [
        "value_1_1 = str_1 < str_2\n",
        "\n",
        "value_2_1 = str_1 > str_2\n",
        "\n",
        "value_3_1 = str_1 <= str_2\n",
        "\n",
        "value_4_1 = str_1 >= str_2\n",
        "\n",
        "value_5_1 = str_1 == str_2\n",
        "\n",
        "value_6_1 = str_1 != str_2\n",
        "\n",
        "print(value_1_1)\n",
        "print(value_2_1)\n",
        "print(value_3_1)\n",
        "print(value_4_1)\n",
        "print(value_5_1)\n",
        "print(value_6_1)"
      ],
      "execution_count": 9,
      "outputs": [
        {
          "output_type": "stream",
          "text": [
            "True\n",
            "False\n",
            "True\n",
            "False\n",
            "False\n",
            "True\n"
          ],
          "name": "stdout"
        }
      ]
    },
    {
      "cell_type": "code",
      "metadata": {
        "id": "ljdRRZgBYlQt",
        "colab_type": "code",
        "colab": {}
      },
      "source": [
        ""
      ],
      "execution_count": null,
      "outputs": []
    }
  ]
}