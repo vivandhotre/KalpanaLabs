{
  "nbformat": 4,
  "nbformat_minor": 0,
  "metadata": {
    "colab": {
      "name": "KalpanaLabs_Day_7",
      "provenance": [],
      "authorship_tag": "ABX9TyN0HrhUM9xfdCFevlJfWfXS",
      "include_colab_link": true
    },
    "kernelspec": {
      "name": "python3",
      "display_name": "Python 3"
    }
  },
  "cells": [
    {
      "cell_type": "markdown",
      "metadata": {
        "id": "view-in-github",
        "colab_type": "text"
      },
      "source": [
        "<a href=\"https://colab.research.google.com/github/ekdnam/KalpanaLabs/blob/master/Day%207/KalpanaLabs_Day_7.ipynb\" target=\"_parent\"><img src=\"https://colab.research.google.com/assets/colab-badge.svg\" alt=\"Open In Colab\"/></a>"
      ]
    },
    {
      "cell_type": "markdown",
      "metadata": {
        "id": "ZmvQBQrDdd0j"
      },
      "source": [
        "# Comparison between Strings\n",
        "\n",
        "Last week we were amazed and bewildered when we saw that\n",
        "\n",
        "**\"abc\" \\< \"ABC\"**\n",
        "\n",
        "The reason behind that is that strings are stored in the memory using their ASCII values. "
      ]
    },
    {
      "cell_type": "markdown",
      "metadata": {
        "id": "nSBcNQyRexaJ"
      },
      "source": [
        "## ASCII Values\n",
        "\n",
        "I am not going to go in depth about how the values came into being and their significance, it would make you go crazy like last week.\n",
        "\n",
        "\n",
        "\n"
      ]
    },
    {
      "cell_type": "code",
      "metadata": {
        "id": "qSMrTLWadqeL",
        "outputId": "59c5f8b3-638c-4e8c-d00a-fc94bc185ae2",
        "colab": {
          "base_uri": "https://localhost:8080/",
          "height": 302
        }
      },
      "source": [
        "from IPython.display import Image\n",
        "Image(url='https://media.giphy.com/media/iiILHqWDQo8w0/giphy.gif')"
      ],
      "execution_count": 7,
      "outputs": [
        {
          "output_type": "execute_result",
          "data": {
            "text/html": [
              "<img src=\"https://media.giphy.com/media/iiILHqWDQo8w0/giphy.gif\"/>"
            ],
            "text/plain": [
              "<IPython.core.display.Image object>"
            ]
          },
          "metadata": {
            "tags": []
          },
          "execution_count": 7
        }
      ]
    },
    {
      "cell_type": "markdown",
      "metadata": {
        "id": "ByysUZ4Ph-tA"
      },
      "source": [
        "One piece of information: the characters from a-z have a larger ascii value than A-Z. And the value increases from a to z, and A to Z.\n",
        "\n",
        "\n",
        "\n"
      ]
    },
    {
      "cell_type": "markdown",
      "metadata": {
        "id": "RgxnEXQ9igZs"
      },
      "source": [
        "## How the comparison works\n",
        "\n",
        "The strings are compared by using a Lexicographic Order. Lexicographic Order seems a big word, yes. But don't worry, it has a very simple meaning.\n",
        "\n",
        "It simply means that they are compared in the manner they would be written in a dictionary. Thus Lexicographic Order is also called as Dictionary Order. And it is done using ASCII values.\n",
        "\n",
        "In a dictionary, \"Delhi\" would be before \"Mumbai\", right?\n",
        "\n",
        "Thus in a similar way, \n",
        "```\n",
        "\"Delhi\" < \"Mumbai\"\n",
        "```\n",
        "\n",
        "Also, \"USA\" would be before \"us\".\n",
        "\n",
        "Thus \n",
        "```\n",
        "\"USA\" < \"us\"\n",
        "```"
      ]
    },
    {
      "cell_type": "code",
      "metadata": {
        "id": "wk9k-d8pdxKT"
      },
      "source": [
        ""
      ],
      "execution_count": null,
      "outputs": []
    }
  ]
}