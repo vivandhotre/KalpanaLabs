{
  "nbformat": 4,
  "nbformat_minor": 0,
  "metadata": {
    "colab": {
      "name": "KalpanaLabs_Day5.ipynb",
      "provenance": [],
      "toc_visible": true,
      "authorship_tag": "ABX9TyNacGqw4JMI4sCthzGgiv6f",
      "include_colab_link": true
    },
    "kernelspec": {
      "name": "python3",
      "display_name": "Python 3"
    }
  },
  "cells": [
    {
      "cell_type": "markdown",
      "metadata": {
        "id": "view-in-github",
        "colab_type": "text"
      },
      "source": [
        "<a href=\"https://colab.research.google.com/github/ekdnam/KalpanaLabs/blob/master/Day%205/KalpanaLabs_Day5.ipynb\" target=\"_parent\"><img src=\"https://colab.research.google.com/assets/colab-badge.svg\" alt=\"Open In Colab\"/></a>"
      ]
    },
    {
      "cell_type": "markdown",
      "metadata": {
        "id": "jpynT1Uex8yr",
        "colab_type": "text"
      },
      "source": [
        "# Strings and Word Problems "
      ]
    },
    {
      "cell_type": "markdown",
      "metadata": {
        "id": "FAn5TQ58yXrx",
        "colab_type": "text"
      },
      "source": [
        "## Add one string to another\n",
        "\n",
        "Adding strings is very simple! \n",
        "\n",
        "Just as we add numbers, we add strings!"
      ]
    },
    {
      "cell_type": "markdown",
      "metadata": {
        "id": "iiI_TWkpyvuP",
        "colab_type": "text"
      },
      "source": [
        "### How do we add two numbers?\n",
        "\n",
        "Add two random numbers of your choice \\(using variables\\) and then print the result \\(which is stored in an another variable\\)"
      ]
    },
    {
      "cell_type": "code",
      "metadata": {
        "id": "Bzln_Ax1x3Ke",
        "colab_type": "code",
        "colab": {}
      },
      "source": [
        ""
      ],
      "execution_count": null,
      "outputs": []
    },
    {
      "cell_type": "markdown",
      "metadata": {
        "id": "QMdEpOWWzLYH",
        "colab_type": "text"
      },
      "source": [
        "### Adding strings\n",
        "\n",
        "Write two statements about your favorite IPL team and your favorite cricketer \\(store them in variables\\). Then add those sentences. Print the result."
      ]
    },
    {
      "cell_type": "code",
      "metadata": {
        "id": "N8QSj4mCzK6Q",
        "colab_type": "code",
        "colab": {}
      },
      "source": [
        ""
      ],
      "execution_count": null,
      "outputs": []
    },
    {
      "cell_type": "markdown",
      "metadata": {
        "id": "YWh9NmF30U3f",
        "colab_type": "text"
      },
      "source": [
        "## Exercise\n",
        "\n",
        "Solve the following word problem. And then print the result in the format specified below.\n",
        "\n",
        "**Example**\n",
        "\n",
        "Nathan has a big ant farm. He decided to sell some of his ants. He started with 965 ants. He sold 213. How many ants does he have now?\n",
        "\n",
        "The answer to be printed should be: \"Nathan has 752 ants\""
      ]
    },
    {
      "cell_type": "markdown",
      "metadata": {
        "id": "81-geevI2HAt",
        "colab_type": "text"
      },
      "source": [
        "### Problem\n",
        "\n",
        "Melissa buys 2 packs of tennis balls for $12 in total. All together, there are 6 tennis balls. How much does 1 pack of tennis balls cost? How much does 1 tennis ball cost?"
      ]
    },
    {
      "cell_type": "code",
      "metadata": {
        "id": "4ECAqNgW2FQ2",
        "colab_type": "code",
        "colab": {}
      },
      "source": [
        ""
      ],
      "execution_count": null,
      "outputs": []
    }
  ]
}