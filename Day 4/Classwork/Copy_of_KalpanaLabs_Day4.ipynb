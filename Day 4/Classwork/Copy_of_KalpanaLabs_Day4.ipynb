{
  "nbformat": 4,
  "nbformat_minor": 0,
  "metadata": {
    "colab": {
      "name": "Copy of KalpanaLabs_Day4.ipynb",
      "provenance": [],
      "include_colab_link": true
    },
    "kernelspec": {
      "name": "python3",
      "display_name": "Python 3"
    }
  },
  "cells": [
    {
      "cell_type": "markdown",
      "metadata": {
        "id": "view-in-github",
        "colab_type": "text"
      },
      "source": [
        "<a href=\"https://colab.research.google.com/github/vivandhotre/KalpanaLabs/blob/day-4/Day%204/Classwork/Copy_of_KalpanaLabs_Day4.ipynb\" target=\"_parent\"><img src=\"https://colab.research.google.com/assets/colab-badge.svg\" alt=\"Open In Colab\"/></a>"
      ]
    },
    {
      "cell_type": "markdown",
      "metadata": {
        "id": "uU_mBzsrRIYX",
        "colab_type": "text"
      },
      "source": [
        "# Strings 🧵\n",
        "\n",
        "What are strings?\n",
        "\n",
        "When Python 🐍 wants to store text, it creates a variable called _string_. A string's sole purpose is to hold text for the programming. It can hold anything - from nothing at all ('') to enough to fill up all the memory on your computer."
      ]
    },
    {
      "cell_type": "markdown",
      "metadata": {
        "id": "N8fQeEJUWbhY",
        "colab_type": "text"
      },
      "source": [
        "## Create a string\n",
        "\n",
        "A string is declared in the following way.\n",
        "\n",
        "**variableName = \"{value}\"**\n",
        "\n",
        "OR\n",
        "\n",
        "**variableName = '{value}'**"
      ]
    },
    {
      "cell_type": "code",
      "metadata": {
        "id": "P2psBZG9FCbR",
        "colab_type": "code",
        "colab": {}
      },
      "source": [
        ""
      ],
      "execution_count": null,
      "outputs": []
    },
    {
      "cell_type": "code",
      "metadata": {
        "id": "zhSFCf-iIeZu",
        "colab_type": "code",
        "colab": {}
      },
      "source": [
        "# declaring your name, age, birthdate, and birthYear as variables\n",
        "\n",
        "yourName = \"vivan\" # ENTER CODE HERE\n",
        "\n",
        "age = \"11\" # ENTER CODE HERE\n",
        "\n",
        "birthDate = \"9 october\" # ENTER  CODE HERE\n",
        "\n",
        "birthYear = \"2009\" # ENTER CODE HERE"
      ],
      "execution_count": null,
      "outputs": []
    },
    {
      "cell_type": "markdown",
      "metadata": {
        "id": "fbSjCV9VXJVz",
        "colab_type": "text"
      },
      "source": [
        "Now a little bit of magic!"
      ]
    },
    {
      "cell_type": "code",
      "metadata": {
        "id": "hsqA8xvNXPQS",
        "colab_type": "code",
        "colab": {
          "base_uri": "https://localhost:8080/",
          "height": 84
        },
        "outputId": "5707184d-2658-4a37-daf5-acd22aea2683"
      },
      "source": [
        "print(\"My name is \" + yourName  + \"! \")\n",
        "print(\"My age is \" + age + \".\")\n",
        "print(\"I was born on \" + birthDate + \".\")\n",
        "print(\"The year was \" + birthYear + \".\")"
      ],
      "execution_count": null,
      "outputs": [
        {
          "output_type": "stream",
          "text": [
            "My name is vivan! \n",
            "My age is 11.\n",
            "I was born on 9 october.\n",
            "The year was 2009.\n"
          ],
          "name": "stdout"
        }
      ]
    },
    {
      "cell_type": "markdown",
      "metadata": {
        "id": "IBTQpYnZYaKR",
        "colab_type": "text"
      },
      "source": [
        "### Analysis of the code. What does the print statement here do?"
      ]
    },
    {
      "cell_type": "code",
      "metadata": {
        "id": "P-1mtRmWXZV5",
        "colab_type": "code",
        "colab": {}
      },
      "source": [
        ""
      ],
      "execution_count": null,
      "outputs": []
    },
    {
      "cell_type": "markdown",
      "metadata": {
        "id": "SyWT7Qw9ahf5",
        "colab_type": "text"
      },
      "source": [
        "# String-Formatting Methods\n",
        "\n",
        "\n",
        "\n",
        "---\n",
        "|Method|Description|Example|\n",
        "|------|-----------|-------|\n",
        "|.upper()|Converts all letters to capital letters|'HELLO WORLD'|\n",
        "|.lower()|Converts all letters to lower case|'hello world'|\n",
        "|.capitalize()|Converts first letter in a string to uppercase and converts the rest layers to lowercase|'Hello world'|\n",
        "|.title()|Converts the first letter, and every letter after a punctuation or space, to uppercase. The other letters are converted to lowercase|'Hello World'|\n",
        "\n",
        "\n"
      ]
    },
    {
      "cell_type": "markdown",
      "metadata": {
        "id": "XwqIE_nvc27n",
        "colab_type": "text"
      },
      "source": [
        "## Apply the methods\n",
        "\n",
        "We are going to apply the methods on a very famous line from the movie, Harry Potter and the Chamber of Secrets.\n",
        "\n",
        "The line is below👇\n"
      ]
    },
    {
      "cell_type": "code",
      "metadata": {
        "id": "WQ6AQkuicebW",
        "colab_type": "code",
        "colab": {}
      },
      "source": [
        "line = \"It is our choices, Harry, that show what we truly are, far more than our abilities.\""
      ],
      "execution_count": null,
      "outputs": []
    },
    {
      "cell_type": "markdown",
      "metadata": {
        "id": "clqWsthTePen",
        "colab_type": "text"
      },
      "source": [
        "Now print the line"
      ]
    },
    {
      "cell_type": "code",
      "metadata": {
        "id": "rJQPNqGjeOBz",
        "colab_type": "code",
        "colab": {
          "base_uri": "https://localhost:8080/",
          "height": 34
        },
        "outputId": "573c25a9-ac15-40a0-efa6-1c56d97fb0f9"
      },
      "source": [
        "\n",
        "print (line)\n",
        "\n"
      ],
      "execution_count": null,
      "outputs": [
        {
          "output_type": "stream",
          "text": [
            "It is our choices, Harry, that show what we truly are, far more than our abilities.\n"
          ],
          "name": "stdout"
        }
      ]
    },
    {
      "cell_type": "markdown",
      "metadata": {
        "id": "Lv8ceNhJed4s",
        "colab_type": "text"
      },
      "source": [
        "## .upper() method\n",
        "\n",
        "Applying the **.upper()** method on the string"
      ]
    },
    {
      "cell_type": "code",
      "metadata": {
        "id": "08TS9URHec1j",
        "colab_type": "code",
        "colab": {}
      },
      "source": [
        "lineUpper = line.upper()"
      ],
      "execution_count": null,
      "outputs": []
    },
    {
      "cell_type": "markdown",
      "metadata": {
        "id": "g3yY7zOHe0RX",
        "colab_type": "text"
      },
      "source": [
        "Now print the new variable"
      ]
    },
    {
      "cell_type": "code",
      "metadata": {
        "id": "GOmPz3efeyh3",
        "colab_type": "code",
        "colab": {
          "base_uri": "https://localhost:8080/",
          "height": 34
        },
        "outputId": "6dd7fe1d-e6f8-4743-d495-a730a76977b6"
      },
      "source": [
        "# ENTER CODE HERE\n",
        "print(lineUpper)\n"
      ],
      "execution_count": null,
      "outputs": [
        {
          "output_type": "stream",
          "text": [
            "IT IS OUR CHOICES, HARRY, THAT SHOW WHAT WE TRULY ARE, FAR MORE THAN OUR ABILITIES.\n"
          ],
          "name": "stdout"
        }
      ]
    },
    {
      "cell_type": "markdown",
      "metadata": {
        "id": "NcAZCh9ie8pW",
        "colab_type": "text"
      },
      "source": [
        "## .lower() method\n",
        "\n",
        "Applying the **.lower()** method on the string"
      ]
    },
    {
      "cell_type": "code",
      "metadata": {
        "id": "EbFnLbOke6Ju",
        "colab_type": "code",
        "colab": {}
      },
      "source": [
        "lineLower = line.lower()"
      ],
      "execution_count": null,
      "outputs": []
    },
    {
      "cell_type": "markdown",
      "metadata": {
        "id": "k5bKTh-7fLGE",
        "colab_type": "text"
      },
      "source": [
        "Now print the new variable"
      ]
    },
    {
      "cell_type": "code",
      "metadata": {
        "id": "7KB0OOOSfJEB",
        "colab_type": "code",
        "colab": {
          "base_uri": "https://localhost:8080/",
          "height": 178
        },
        "outputId": "4b4c58fc-dc21-4f90-d972-5c548ac34a6e"
      },
      "source": [
        "# ENTER CODE HERE\n",
        "print(lineLower)"
      ],
      "execution_count": null,
      "outputs": [
        {
          "output_type": "error",
          "ename": "NameError",
          "evalue": "ignored",
          "traceback": [
            "\u001b[0;31m---------------------------------------------------------------------------\u001b[0m",
            "\u001b[0;31mNameError\u001b[0m                                 Traceback (most recent call last)",
            "\u001b[0;32m<ipython-input-11-a290144eacce>\u001b[0m in \u001b[0;36m<module>\u001b[0;34m()\u001b[0m\n\u001b[1;32m      1\u001b[0m \u001b[0;31m# ENTER CODE HERE\u001b[0m\u001b[0;34m\u001b[0m\u001b[0;34m\u001b[0m\u001b[0;34m\u001b[0m\u001b[0m\n\u001b[0;32m----> 2\u001b[0;31m \u001b[0mprint\u001b[0m\u001b[0;34m(\u001b[0m\u001b[0mlineLower\u001b[0m\u001b[0;34m)\u001b[0m\u001b[0;34m\u001b[0m\u001b[0;34m\u001b[0m\u001b[0m\n\u001b[0m",
            "\u001b[0;31mNameError\u001b[0m: name 'lineLower' is not defined"
          ]
        }
      ]
    },
    {
      "cell_type": "markdown",
      "metadata": {
        "id": "KIqcSGLhfUXC",
        "colab_type": "text"
      },
      "source": [
        "## .capitalize() method\n",
        "\n",
        "Applying the **.capitalize()** method on the string"
      ]
    },
    {
      "cell_type": "code",
      "metadata": {
        "id": "N_gkFVM3fSBv",
        "colab_type": "code",
        "colab": {}
      },
      "source": [
        "lineCapitalize = line.capitalize()"
      ],
      "execution_count": null,
      "outputs": []
    },
    {
      "cell_type": "markdown",
      "metadata": {
        "id": "sIScHEM8fhm1",
        "colab_type": "text"
      },
      "source": [
        "Now print the new variable"
      ]
    },
    {
      "cell_type": "code",
      "metadata": {
        "id": "gtsRb8sdfgho",
        "colab_type": "code",
        "colab": {
          "base_uri": "https://localhost:8080/",
          "height": 34
        },
        "outputId": "520367b7-1235-4f7a-b714-83e5144dde7b"
      },
      "source": [
        "# ENTER CODE HERE\n",
        "print(lineCapitalize)"
      ],
      "execution_count": null,
      "outputs": [
        {
          "output_type": "stream",
          "text": [
            "It is our choices, harry, that show what we truly are, far more than our abilities.\n"
          ],
          "name": "stdout"
        }
      ]
    },
    {
      "cell_type": "markdown",
      "metadata": {
        "id": "vh5fglv0fnxH",
        "colab_type": "text"
      },
      "source": [
        "## .title() method\n",
        "\n",
        "Applying the **.title()** method on the string"
      ]
    },
    {
      "cell_type": "code",
      "metadata": {
        "id": "LfsMJyaTfm4u",
        "colab_type": "code",
        "colab": {}
      },
      "source": [
        "lineTitle = line.title()"
      ],
      "execution_count": null,
      "outputs": []
    },
    {
      "cell_type": "markdown",
      "metadata": {
        "id": "roo0-jPXfySt",
        "colab_type": "text"
      },
      "source": [
        "Now print the new variable"
      ]
    },
    {
      "cell_type": "code",
      "metadata": {
        "id": "62AijXHsfxVN",
        "colab_type": "code",
        "colab": {}
      },
      "source": [
        "# ENTER CODE HERE\n",
        "print=(lineTitle)"
      ],
      "execution_count": null,
      "outputs": []
    },
    {
      "cell_type": "markdown",
      "metadata": {
        "id": "eGmlKVrSf7AY",
        "colab_type": "text"
      },
      "source": [
        "# Try it yourself!\n",
        "\n",
        "Seems that we have seen some of the basic string methods in Python!\n",
        "\n",
        "Now create a string variable of your own and apply these methods on them!"
      ]
    },
    {
      "cell_type": "code",
      "metadata": {
        "id": "pNe5LQaSf27V",
        "colab_type": "code",
        "colab": {}
      },
      "source": [
        "line=\"my network\"\n",
        "lineUpper=line.upper()"
      ],
      "execution_count": null,
      "outputs": []
    },
    {
      "cell_type": "code",
      "metadata": {
        "id": "iscwvz14hH2a",
        "colab_type": "code",
        "colab": {
          "base_uri": "https://localhost:8080/",
          "height": 34
        },
        "outputId": "754ffb0b-279d-4c61-b6cc-f23b600adee5"
      },
      "source": [
        "\n",
        "print(lineUpper)"
      ],
      "execution_count": null,
      "outputs": [
        {
          "output_type": "stream",
          "text": [
            "MY NETWORK\n"
          ],
          "name": "stdout"
        }
      ]
    },
    {
      "cell_type": "code",
      "metadata": {
        "id": "0aJGfHHahIlP",
        "colab_type": "code",
        "colab": {
          "base_uri": "https://localhost:8080/",
          "height": 34
        },
        "outputId": "cf2aeafe-5cf5-4e31-b3c5-93e94615bcc6"
      },
      "source": [
        "lineLower = line.lower()\n",
        "print(lineLower)"
      ],
      "execution_count": null,
      "outputs": [
        {
          "output_type": "stream",
          "text": [
            "my network\n"
          ],
          "name": "stdout"
        }
      ]
    },
    {
      "cell_type": "code",
      "metadata": {
        "id": "lX7jqRYPhIP7",
        "colab_type": "code",
        "colab": {
          "base_uri": "https://localhost:8080/",
          "height": 34
        },
        "outputId": "2220c033-d729-46c2-f1ad-e84bc77c9f20"
      },
      "source": [
        "lineCap = line.capitalize()\n",
        "print(lineCap)"
      ],
      "execution_count": null,
      "outputs": [
        {
          "output_type": "stream",
          "text": [
            "My network\n"
          ],
          "name": "stdout"
        }
      ]
    },
    {
      "cell_type": "code",
      "metadata": {
        "id": "C6gSQ7uZhHh7",
        "colab_type": "code",
        "colab": {
          "base_uri": "https://localhost:8080/",
          "height": 34
        },
        "outputId": "1579349d-0fa0-4065-913b-701b27a6a17d"
      },
      "source": [
        "lineTitle = line.title()\n",
        "print(lineTitle)"
      ],
      "execution_count": null,
      "outputs": [
        {
          "output_type": "stream",
          "text": [
            "My Network\n"
          ],
          "name": "stdout"
        }
      ]
    },
    {
      "cell_type": "markdown",
      "metadata": {
        "id": "34vD6kkqgsnI",
        "colab_type": "text"
      },
      "source": [
        "# References\n",
        "\n",
        "SamsTeachYourself Python - Katie Cunningham (Pearson)"
      ]
    }
  ]
}