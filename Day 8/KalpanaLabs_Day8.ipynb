{
  "nbformat": 4,
  "nbformat_minor": 0,
  "metadata": {
    "colab": {
      "name": "KalpanaLabs_Day8.ipynb",
      "provenance": [],
      "collapsed_sections": [],
      "authorship_tag": "ABX9TyMAhWmYBQyLmWntG/OnQAg4",
      "include_colab_link": true
    },
    "kernelspec": {
      "name": "python3",
      "display_name": "Python 3"
    }
  },
  "cells": [
    {
      "cell_type": "markdown",
      "metadata": {
        "id": "view-in-github",
        "colab_type": "text"
      },
      "source": [
        "<a href=\"https://colab.research.google.com/github/ekdnam/KalpanaLabs/blob/master/Day%208/KalpanaLabs_Day8.ipynb\" target=\"_parent\"><img src=\"https://colab.research.google.com/assets/colab-badge.svg\" alt=\"Open In Colab\"/></a>"
      ]
    },
    {
      "cell_type": "markdown",
      "metadata": {
        "id": "jhXx96TcYBd4"
      },
      "source": [
        "# if-else conditions\n",
        "\n",
        "---\n",
        "\n",
        "![ifelse.png](data:image/png;base64,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)\n",
        "\n",
        "A few weeks ago, we looked into boolean values.\n",
        "\n",
        "They are of two types.\n",
        "\n",
        "- True\n",
        "- False\n",
        "\n",
        "We can use these values to create conditional statements, like\n",
        "\n",
        "- if-else statements\n",
        "- while loops\n",
        "- for loops\n",
        "- switch cases\n"
      ]
    },
    {
      "cell_type": "markdown",
      "metadata": {
        "id": "tvmwt84okCVk"
      },
      "source": [
        "## What are if-else conditions?\n",
        "\n",
        "----\n",
        "\n",
        "example - dinner and lunch\n"
      ]
    },
    {
      "cell_type": "markdown",
      "metadata": {
        "id": "MNxj5zVPl-fP"
      },
      "source": [
        "## Syntax\n",
        "\n",
        "---\n",
        "\n",
        "```\n",
        "if (condition):\n",
        "  statements\n",
        "  -\n",
        "  -\n",
        "elif (condition):\n",
        "  statements\n",
        "  -\n",
        "  -\n",
        "elif (condition):\n",
        "  statements\n",
        "  -\n",
        "  -\n",
        "else\n",
        "  statements\n",
        "  -\n",
        "  -\n",
        "```\n",
        "\n",
        "- What does if mean?\n",
        "- What does elif mean?\n",
        "- What does else mean?"
      ]
    },
    {
      "cell_type": "markdown",
      "metadata": {
        "id": "jkkkAsa9nNt8"
      },
      "source": [
        "## Example\n",
        "----\n",
        "\n",
        "You play games everyday downstairs. You need your parent's permission, right? \n",
        "\n",
        "Mostly they allow.\n",
        "\n",
        "But recently it has begun to rain. Now, will they allow?"
      ]
    },
    {
      "cell_type": "code",
      "metadata": {
        "id": "4aNaNkG_G145",
        "outputId": "eee7f653-157f-44fa-a61e-e99c2a2c2a98",
        "colab": {
          "base_uri": "https://localhost:8080/",
          "height": 35
        }
      },
      "source": [
        "itIsRaining = False\n",
        "\n",
        "if itIsRaining:\n",
        "  print(\"You cannot go downstairs. Study at home!\")\n",
        "else:\n",
        "  print(\"Yes, go downstairs. Be back by around 7 PM\")\n",
        "\n"
      ],
      "execution_count": null,
      "outputs": [
        {
          "output_type": "stream",
          "text": [
            "Yes, go downstairs. Be back by around 7 PM\n"
          ],
          "name": "stdout"
        }
      ]
    },
    {
      "cell_type": "markdown",
      "metadata": {
        "id": "zu2sVtUspL7o"
      },
      "source": [
        "## Example 2\n",
        "---\n",
        "\n",
        "Let us consider the marking scheme in schools. \n",
        "\n",
        "| Marks | Grade |\n",
        "| --- | ----------- |\n",
        "| 0 - 40 | F |\n",
        "| 41 -50 | C |\n",
        "| 51 -60 | C+ |\n",
        "| 61 -70 | B |\n",
        "| 71 -80 | B+ |\n",
        "| 81 -90 | A |\n",
        "| 91 -100 | A+ |\n",
        "\n",
        "Now, let us create a grading system!"
      ]
    },
    {
      "cell_type": "code",
      "metadata": {
        "id": "p_BTr4qEpBRZ",
        "outputId": "683b4c35-cc3f-4374-dbf9-876560eabb30",
        "colab": {
          "base_uri": "https://localhost:8080/",
          "height": 35
        }
      },
      "source": [
        "marks = 49 \n",
        "\n",
        "if marks < 41:\n",
        "  grade = \"F\"\n",
        "elif marks < 51:\n",
        "  grade = \"C\"\n",
        "elif marks < 61:\n",
        "  grade = \"C+\"\n",
        "elif marks < 71:\n",
        "  grade = \"B\"\n",
        "elif marks < 81:\n",
        "  grade = \"B+\"\n",
        "elif marks < 91:\n",
        "  grade = \"A\"\n",
        "else:\n",
        "  grade = \"A+\"\n",
        "\n",
        "print(\"Your grade is \" + grade)"
      ],
      "execution_count": null,
      "outputs": [
        {
          "output_type": "stream",
          "text": [
            "Your grade is C\n"
          ],
          "name": "stdout"
        }
      ]
    },
    {
      "cell_type": "markdown",
      "metadata": {
        "id": "6j-gS-mdrHIp"
      },
      "source": [
        "Another way of writing the same code"
      ]
    },
    {
      "cell_type": "code",
      "metadata": {
        "id": "liTlFwarqiSv",
        "outputId": "39845c3c-8efb-4688-d5f6-a620ad582b2e",
        "colab": {
          "base_uri": "https://localhost:8080/",
          "height": 35
        }
      },
      "source": [
        "marks = 9\n",
        "\n",
        "if marks < 101 and marks > 89:\n",
        "  grade = \"A+\"\n",
        "elif marks < 90 and marks > 79:\n",
        "  grade = \"A\"\n",
        "elif marks < 80 and marks > 69:\n",
        "  grade = \"B+\"\n",
        "elif marks < 70 and marks > 59:\n",
        "  grade = \"B\"\n",
        "elif marks < 60 and marks > 49:\n",
        "  grade = \"C+\"\n",
        "elif marks < 50 and marks > 39:\n",
        "  grade = \"C\"\n",
        "else:\n",
        "  grade = \"F\"\n",
        "\n",
        "print(\"Your grade is \" + grade)"
      ],
      "execution_count": null,
      "outputs": [
        {
          "output_type": "stream",
          "text": [
            "Your grade is F\n"
          ],
          "name": "stdout"
        }
      ]
    },
    {
      "cell_type": "code",
      "metadata": {
        "id": "7HJ7pQJUsAKv"
      },
      "source": [
        ""
      ],
      "execution_count": null,
      "outputs": []
    }
  ]
}